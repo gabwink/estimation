{
 "cells": [
  {
   "cell_type": "code",
   "execution_count": 1,
   "metadata": {},
   "outputs": [],
   "source": [
    "import numpy as np\n",
    "from numpy.random import uniform, randn\n",
    "\n",
    "import matplotlib.pyplot as plt\n",
    "\n",
    "import math\n",
    "from math import sin, cos, pi, sqrt\n",
    "\n",
    "import random"
   ]
  },
  {
   "cell_type": "code",
   "execution_count": 2,
   "metadata": {},
   "outputs": [],
   "source": [
    "# Givens\n",
    "n = 2\n",
    "s0 = np.array([1,1])\n",
    "A = np.array([[0, 1],\n",
    "             [-1, 0]])\n",
    "T = 1 # sec\n",
    "dt = 0.1\n",
    "N = int(T / dt)\n",
    "tvec = tvec = np.linspace(0, 1, N+1)  # for plotting\n",
    "\n",
    "variance = 0.1\n",
    "sigma = sqrt(variance)\n"
   ]
  },
  {
   "cell_type": "code",
   "execution_count": 3,
   "metadata": {},
   "outputs": [],
   "source": [
    "# noise: normal distributions with variance 0.1\n",
    "\n",
    "def noise_distribution(mean, std):\n",
    "    '''\n",
    "    Generates normal distribution \n",
    "    '''\n",
    "    noise = np.zeros(2)\n",
    "    N = 1\n",
    "    noise[0] = mean[0] + (randn(N) * std)\n",
    "    noise[1] = mean[1] + (randn(N) * std)\n",
    "    return noise.T\n"
   ]
  },
  {
   "cell_type": "code",
   "execution_count": 4,
   "metadata": {},
   "outputs": [
    {
     "data": {
      "text/plain": [
       "[<matplotlib.lines.Line2D at 0x11435fbe0>]"
      ]
     },
     "execution_count": 4,
     "metadata": {},
     "output_type": "execute_result"
    },
    {
     "data": {
      "image/png": "[encoded data removed]",
      "text/plain": [
       "<Figure size 432x288 with 1 Axes>"
      ]
     },
     "metadata": {
      "needs_background": "light"
     },
     "output_type": "display_data"
    }
   ],
   "source": [
    "# Initial Trajectory Given Dynamics - For the measurement value and computing error\n",
    "\n",
    "def simulate_init_traj(x0):\n",
    "    x0 = np.copy(x0)\n",
    "    xtraj = np.zeros((n,N+1))\n",
    "    xtraj[:, 0] = x0          # initial condition at N=0\n",
    "    \n",
    "    \n",
    "    for i in range(1, N+1):\n",
    "        xtraj[:,i] = RK4(x0)\n",
    "        x0 = np.copy(xtraj[:,i])\n",
    "    \n",
    "    return xtraj\n",
    "\n",
    "def RK4(xt):\n",
    "    new_xt = np.zeros(n)\n",
    "    \n",
    "    k1 = dt * dynamics(xt)\n",
    "    k2 = dt * dynamics( xt+(k1/2.))\n",
    "    k3 = dt * dynamics( xt+(k2/2.))\n",
    "    k4 = dt * dynamics( xt+k3)\n",
    "    new_xt[:] = xt + (1/6.) * (k1+2.0*k2+2.0*k3+k4)\n",
    "\n",
    "    return new_xt\n",
    "\n",
    "def dynamics(xi): \n",
    "    s = xi.T    # make it a column vector \n",
    "    \n",
    "    dsdt = np.matmul(A, s) \n",
    "    return dsdt\n",
    "\n",
    "\n",
    "# initial trajectory \n",
    "traj = simulate_init_traj(s0)\n",
    "plt.plot(traj[0], traj[1])"
   ]
  },
  {
   "cell_type": "code",
   "execution_count": 5,
   "metadata": {},
   "outputs": [
    {
     "name": "stdout",
     "output_type": "stream",
     "text": [
      "[1.0948375  0.89517083]\n"
     ]
    }
   ],
   "source": [
    "# simulate dynamics for one step \n",
    "\n",
    "def propogate_fwd(st):\n",
    "\n",
    "    s = np.copy(st)\n",
    "    s_bar = RK4(s)\n",
    "    return s_bar\n",
    "\n",
    "\n",
    "def RK4(xt):\n",
    "    new_xt = np.zeros(n)\n",
    "    \n",
    "    k1 = dt * dynamics(xt)\n",
    "    k2 = dt * dynamics( xt+(k1/2.))\n",
    "    k3 = dt * dynamics( xt+(k2/2.))\n",
    "    k4 = dt * dynamics( xt+k3)\n",
    "    new_xt[:] = xt + (1/6.) * (k1+2.0*k2+2.0*k3+k4)\n",
    "\n",
    "    return new_xt\n",
    "\n",
    "def dynamics(xi): \n",
    "    s = xi.T    # make it a column vector \n",
    "    \n",
    "    dsdt = np.matmul(A, s) \n",
    "    return dsdt\n",
    "\n",
    "print(propogate_fwd(s0))"
   ]
  },
  {
   "cell_type": "code",
   "execution_count": 6,
   "metadata": {},
   "outputs": [],
   "source": [
    "# Setup\n",
    "\n",
    "x0 = s0\n",
    "P0 = np.array([[1, 0], [0, 1]])           # what is the initial error covariance matrix\n",
    "\n",
    "\n",
    "Q = variance * np.array([[1, 0], [0, 1]])  # process noise cov\n",
    "R = variance * np.array([[1, 0], [0, 1]])  # measurement noise cov \n",
    "C = np.array([[1, 0], [0, 1]]) "
   ]
  },
  {
   "cell_type": "code",
   "execution_count": 7,
   "metadata": {},
   "outputs": [],
   "source": [
    "# allocate result matrices\n",
    "x_pred = np.zeros((n, N+1))      # prediction of state vector\n",
    "P_pred = np.zeros((N+1, n,n))    # prediction error covariance matrix\n",
    "xt     = np.zeros((n, N+1))      # estimation of state vector\n",
    "Pt     = np.zeros((N+1, n, n))   # estimation error covariance matrix\n",
    "K      = np.zeros((N+1, n, n))   # Kalman Gain\n",
    "\n",
    "# set initial prediction \n",
    "x_pred[:, 0] = x0\n",
    "xt[:, 0]     = x0\n",
    "P_pred[0]    = P0\n",
    "Pt[0]        = P0\n",
    "\n",
    "\n",
    "\n",
    "# for  each timestep\n",
    "for i in range(1, N+1):\n",
    "\n",
    "    # Prediction Stage\n",
    "    wk = noise_distribution([0, 0], sigma)                \n",
    "    x_pred[:, i] = propogate_fwd(xt[:, i-1]) + wk              # dynamics update + noise \n",
    "    P_pred[i] = np.linalg.multi_dot((A, Pt[i-1], A.T)) + Q\n",
    "    \n",
    "    # Kalman Gain and Measured Data \n",
    "    K[i] = np.matmul(P_pred[i], C.T) @ np.linalg.inv((np.linalg.multi_dot((C, P_pred[i], C.T))+ R))\n",
    "    vk = noise_distribution([0, 0], sigma)      # measurement noise- zero mean and variance given \n",
    "    zk = np.matmul(C, traj[:, i]) + vk         \n",
    "    \n",
    "    # Measurement Update\n",
    "    xt[:, i] =  x_pred[:, i] + K[i] @ (zk - C @ x_pred[:, i])\n",
    "    Pt[i]    =  P_pred[i] - np.linalg.multi_dot((K[i], C, P_pred[i]))\n",
    "     "
   ]
  },
  {
   "cell_type": "code",
   "execution_count": 8,
   "metadata": {
    "scrolled": true
   },
   "outputs": [
    {
     "data": {
      "text/plain": [
       "Text(0, 0.5, 'y')"
      ]
     },
     "execution_count": 8,
     "metadata": {},
     "output_type": "execute_result"
    },
    {
     "data": {
      "image/png": "[encoded data removed]",
      "text/plain": [
       "<Figure size 432x288 with 1 Axes>"
      ]
     },
     "metadata": {
      "needs_background": "light"
     },
     "output_type": "display_data"
    }
   ],
   "source": [
    "plt.plot(xt[0, :], xt[1, :])\n",
    "plt.plot(traj[0], traj[1])\n",
    "plt.xlabel('x')\n",
    "plt.ylabel('y')"
   ]
  },
  {
   "cell_type": "code",
   "execution_count": 9,
   "metadata": {},
   "outputs": [
    {
     "data": {
      "text/plain": [
       "<matplotlib.legend.Legend at 0x1145904c0>"
      ]
     },
     "execution_count": 9,
     "metadata": {},
     "output_type": "execute_result"
    },
    {
     "data": {
      "image/png": "[encoded data removed]",
      "text/plain": [
       "<Figure size 432x288 with 1 Axes>"
      ]
     },
     "metadata": {
      "needs_background": "light"
     },
     "output_type": "display_data"
    }
   ],
   "source": [
    "plt.plot(tvec, Pt[:, 0, 0], label = \"[0,0]\")\n",
    "plt.plot(tvec, Pt[:, 0, 1], label = \"[0,1]\")\n",
    "plt.plot(tvec, Pt[:, 1, 0], label = \"[1,0]\")\n",
    "plt.plot(tvec, Pt[:, 1, 1], label = \"[1,1]\")\n",
    "plt.xlabel('time')\n",
    "plt.ylabel('Covariance of state prediction')\n",
    "plt.legend()"
   ]
  },
  {
   "cell_type": "code",
   "execution_count": 10,
   "metadata": {},
   "outputs": [
    {
     "data": {
      "text/plain": [
       "[<matplotlib.lines.Line2D at 0x1146972b0>]"
      ]
     },
     "execution_count": 10,
     "metadata": {},
     "output_type": "execute_result"
    },
    {
     "data": {
      "image/png": "[encoded data removed]",
      "text/plain": [
       "<Figure size 432x288 with 1 Axes>"
      ]
     },
     "metadata": {
      "needs_background": "light"
     },
     "output_type": "display_data"
    }
   ],
   "source": [
    "plt.plot(tvec, K[:, 0, 0])"
   ]
  },
  {
   "cell_type": "code",
   "execution_count": 11,
   "metadata": {},
   "outputs": [],
   "source": [
    "def simulate_filter(K = False):\n",
    "\n",
    "    # allocate result matrices\n",
    "    x_pred = np.zeros((n, N+1))      # prediction of state vector\n",
    "    P_pred = np.zeros((N+1, n,n))    # prediction error covariance matrix\n",
    "    xt     = np.zeros((n, N+1))                  # estimation of state vector\n",
    "    Pt     = np.zeros((N+1, n, n))   # estimation error covariance matrix\n",
    "    Kt      = np.zeros((N+1, n, n))        # Kalman Gain\n",
    "    error = np.zeros(N+1)\n",
    "\n",
    "    # set initial prediction \n",
    "    x_pred[:, 0] = x0\n",
    "    xt[:, 0]     = x0\n",
    "    P_pred[0]    = P0\n",
    "    Pt[0]        = P0\n",
    "    \n",
    "    # opt\n",
    "    if not K:\n",
    "        opt = True\n",
    "    else:\n",
    "        opt = False\n",
    "        K = K * np.identity(2)\n",
    "\n",
    "\n",
    "    # for  each timestep\n",
    "    for i in range(1, N+1):\n",
    "\n",
    "        # Prediction Stage\n",
    "        wk = noise_distribution([0, 0], sigma)                # zero mean and variance given\n",
    "        x_pred[:, i] = propogate_fwd(xt[:, i-1]) + wk\n",
    "        P_pred[i] = np.linalg.multi_dot((A, Pt[i-1], A.T)) + Q\n",
    "\n",
    "        # Kalman Gain and Measured Data\n",
    "        if opt:\n",
    "            Kt[i] = np.matmul(P_pred[i], C.T) @ np.linalg.inv((np.linalg.multi_dot((C, P_pred[i], C.T))+ R)) \n",
    "            K = Kt[i]\n",
    "            \n",
    "        vk = noise_distribution([0, 0], sigma)      # measurement noise- zero mean and variance given \n",
    "        zk = np.matmul(C, traj[:, i]) + vk       \n",
    "\n",
    "        # Measurement Update\n",
    "        xt[:, i] =  x_pred[:, i] + K @ (zk - C @ x_pred[:, i])\n",
    "        Pt[i]    =  P_pred[i] - np.linalg.multi_dot((K, C, P_pred[i]))\n",
    "        \n",
    "        # Compute error at each timestep \n",
    "        error[i] = np.linalg.norm(traj[:,i] - xt[:, i])\n",
    "    \n",
    "\n",
    "    avg_err = np.sum(error)/len(error)\n",
    "    \n",
    "    return avg_err\n",
    "    "
   ]
  },
  {
   "cell_type": "code",
   "execution_count": 12,
   "metadata": {},
   "outputs": [],
   "source": [
    "alpha = 0.6\n",
    "K_list = [0.618034]\n",
    "K_list = [False]\n",
    "s = [round(random.uniform(0.618034- alpha, 0.618034 + alpha), 3) for i in range(10)]\n",
    "K_list = K_list + s\n",
    "\n",
    "Avg_Error_List = []\n",
    "filt_num = [i for i in range(len(K_list))]\n",
    "lab = filt_num.copy()\n",
    "lab[0] = \"opt\"\n",
    "\n",
    "\n",
    "# loop through filters\n",
    "data = [] \n",
    "for K in K_list:\n",
    "    error = []\n",
    "    # loop through sample paths\n",
    "    for i in range(100):\n",
    "        error.append(simulate_filter(K))\n",
    "        avg_error = sum(error)/len(error)\n",
    "    data.append(error)  \n",
    "    Avg_Error_List.append(avg_error)\n",
    "    \n",
    "\n",
    "        "
   ]
  },
  {
   "cell_type": "code",
   "execution_count": 13,
   "metadata": {},
   "outputs": [
    {
     "data": {
      "text/plain": [
       "Text(0.5, 0, 'Linear Filter')"
      ]
     },
     "execution_count": 13,
     "metadata": {},
     "output_type": "execute_result"
    },
    {
     "data": {
      "image/png": "[encoded data removed]",
      "text/plain": [
       "<Figure size 432x288 with 1 Axes>"
      ]
     },
     "metadata": {
      "needs_background": "light"
     },
     "output_type": "display_data"
    }
   ],
   "source": [
    "plt.scatter(filt_num, Avg_Error_List)\n",
    "plt.xticks(filt_num, lab)\n",
    "plt.ylabel('Error')\n",
    "plt.xlabel('Linear Filter')"
   ]
  },
  {
   "cell_type": "code",
   "execution_count": 14,
   "metadata": {},
   "outputs": [
    {
     "name": "stderr",
     "output_type": "stream",
     "text": [
      "<ipython-input-14-0126c66f50e6>:6: UserWarning: FixedFormatter should only be used together with FixedLocator\n",
      "  ax.set_xticklabels(lab)\n"
     ]
    },
    {
     "data": {
      "image/png": "[encoded data removed]",
      "text/plain": [
       "<Figure size 720x504 with 1 Axes>"
      ]
     },
     "metadata": {
      "needs_background": "light"
     },
     "output_type": "display_data"
    }
   ],
   "source": [
    "# boxplot\n",
    "fig = plt.figure(figsize =(10, 7))\n",
    " \n",
    "# Creating axes instance\n",
    "ax = fig.add_axes([0, 0, 1, 1])\n",
    "ax.set_xticklabels(lab)\n",
    " \n",
    "# Creating plot\n",
    "bp = ax.boxplot(data, showfliers = False)\n",
    " \n",
    "# show plot\n",
    "plt.ylabel('Error')\n",
    "plt.xlabel('Linear Filter')\n",
    "plt.show()"
   ]
  }
 ],
 "metadata": {
  "kernelspec": {
   "display_name": "Python 3",
   "language": "python",
   "name": "python3"
  },
  "language_info": {
   "codemirror_mode": {
    "name": "ipython",
    "version": 3
   },
   "file_extension": ".py",
   "mimetype": "text/x-python",
   "name": "python",
   "nbconvert_exporter": "python",
   "pygments_lexer": "ipython3",
   "version": "3.8.5"
  }
 },
 "nbformat": 4,
 "nbformat_minor": 4
}
