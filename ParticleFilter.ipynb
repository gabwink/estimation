{
 "cells": [
  {
   "cell_type": "code",
   "execution_count": 1,
   "metadata": {},
   "outputs": [],
   "source": [
    "import numpy as np\n",
    "from numpy.random import uniform, randn\n",
    "import matplotlib.pyplot as plt\n",
    "import math\n",
    "from math import sin, cos, pi, sqrt\n",
    "import random"
   ]
  },
  {
   "cell_type": "code",
   "execution_count": 2,
   "metadata": {},
   "outputs": [],
   "source": [
    "# PARTICLE FILTER STEPS \n",
    "# 1: You have a distribution that describes your current belief\n",
    "# 2: Generate samples from this distribution in the domain where things are evolving \n",
    "# 3: Weight the samples according to probability mass\n",
    "\n",
    "\n",
    "# 4: Update the distribution ... to do this we update the individual samples by taking each sample \n",
    "#    and applying your integrator scheme (possibly with noise x_dot = f( x, u + noise))\n",
    "# 5: generate new set of samples\n",
    "# 6: Tranform old set of samples to new set ... take ONE measurement (DO NOT start sampling from measurement model)\n",
    "# 7: Given the ONE measurement how likely are all of the different predictions \n",
    "# 8: Weight all these predicitons by liklihood under the measurement model that you have "
   ]
  },
  {
   "cell_type": "code",
   "execution_count": 3,
   "metadata": {},
   "outputs": [],
   "source": [
    "# Givens\n",
    "variance = 0.02\n",
    "sigma    = sqrt(variance)\n",
    "\n",
    "\n",
    "T  = 6 # seconds\n",
    "dt = 0.1\n",
    "N  = int(T/dt)\n",
    "n  = 3\n",
    "\n",
    "\n",
    "s0  = [0, 0, np.pi/2]\n",
    "u   = np.array([1, -1/2])\n",
    "\n"
   ]
  },
  {
   "cell_type": "code",
   "execution_count": 4,
   "metadata": {
    "scrolled": true
   },
   "outputs": [],
   "source": [
    "# functions for process noise and measurement noise\n",
    "\n",
    "def create_normal_distribution(mean, std, N):\n",
    "    '''\n",
    "    Generates normal distribution\n",
    "    Use to generate initial xt\n",
    "    '''\n",
    "    particles = np.empty((3, N))\n",
    "    particles[0, :] = mean[0] + (randn(N) * std)\n",
    "    particles[1, :] = mean[1] + (randn(N) * std)\n",
    "    particles[2, :] = mean[2] + (randn(N) * std)\n",
    "    return particles\n",
    "\n",
    "def noise_distribution(mean, std):\n",
    "    '''\n",
    "    Generates normal distribution \n",
    "    '''\n",
    "    noise = np.zeros(2)\n",
    "    N = 1\n",
    "    noise[0] = mean[0] + (randn(N) * std)\n",
    "    noise[1] = mean[1] + (randn(N) * std)\n",
    "    return noise\n",
    "\n",
    "\n",
    "def weight_distribution(mean, std):\n",
    "    '''\n",
    "    Generates normal distribution \n",
    "    '''\n",
    "    N = 1\n",
    "    return mean + (randn(N) * std)\n"
   ]
  },
  {
   "cell_type": "code",
   "execution_count": 5,
   "metadata": {},
   "outputs": [],
   "source": [
    "# functions to propogate particles forward given dynamics + noise \n",
    "# x_dot = f(x, u + noise)\n",
    "\n",
    "def propogate_fwd(particle, u):\n",
    "    '''\n",
    "    propogate particle forward + process noise = new particle \n",
    "    '''\n",
    "    s = np.copy(particle)\n",
    "    s_bar = RK4(s, u)\n",
    "    return s_bar\n",
    "\n",
    "\n",
    "def RK4(xt, u):\n",
    "    n = 3\n",
    "    new_xt = np.zeros(n)\n",
    "    \n",
    "    k1 = dt * dynamics(xt, u)\n",
    "    k2 = dt * dynamics( xt+(k1/2.), u)\n",
    "    k3 = dt * dynamics( xt+(k2/2.), u)\n",
    "    k4 = dt * dynamics( xt+k3, u)\n",
    "    new_xt[0:n] = xt + (1/6.) * (k1+2.0*k2+2.0*k3+k4)\n",
    "    return new_xt\n",
    "\n",
    "def dynamics(particle, u):\n",
    "    '''\n",
    "    x_dot = f(x, u + noise)\n",
    "    '''\n",
    "    s = particle\n",
    "    dsdt = np.array([cos(s[2])* u[0], sin(s[2])*u[0], u[1]]) \n",
    "    return dsdt\n"
   ]
  },
  {
   "cell_type": "code",
   "execution_count": 6,
   "metadata": {},
   "outputs": [
    {
     "data": {
      "text/plain": [
       "[<matplotlib.lines.Line2D at 0x11da6cd90>]"
      ]
     },
     "execution_count": 6,
     "metadata": {},
     "output_type": "execute_result"
    },
    {
     "data": {
      "image/png": "[encoded data removed]",
      "text/plain": [
       "<Figure size 432x288 with 1 Axes>"
      ]
     },
     "metadata": {
      "needs_background": "light"
     },
     "output_type": "display_data"
    }
   ],
   "source": [
    "# initial trajectory given dynamics, initial condition, and timescale\n",
    "\n",
    "traj0 = np.zeros((n, N+1))\n",
    "traj0[:,0] = s0\n",
    "\n",
    "xt = s0\n",
    "for i in range(1, N+1):\n",
    "    traj0[:, i] = propogate_fwd(xt, u)\n",
    "    xt = traj0[:, i]\n",
    "    \n",
    "plt.plot(traj0[0], traj0[1])\n",
    "\n"
   ]
  },
  {
   "cell_type": "code",
   "execution_count": 7,
   "metadata": {},
   "outputs": [],
   "source": [
    "# particle filter function \n",
    "\n",
    "def particle_filter(xt, M, timestep):\n",
    "    '''\n",
    "    xt : array of M particles \n",
    "    M  : number of particles\n",
    "    timestep : current time\n",
    "    '''\n",
    "    \n",
    "    index_list = [i for i in range(M)]\n",
    "    \n",
    "    \n",
    "    xt = np.copy(xt)            # distribution that descirbes current belief             \n",
    "    xt_bar = np.zeros((3+1,M))  # update samples of distribution - update = integrator scheme + noise\n",
    "\n",
    "    \n",
    "    wt = np.zeros(M) \n",
    "    error = np.zeros(M)\n",
    "    inv_error = np.zeros(M)\n",
    "    \n",
    "    # Stage 1A - Move particles to next time step, take ONE measurement, assign weights based on measurement \n",
    "    for m in range(M):\n",
    "\n",
    "        # Step 1: propogate particle with noise \n",
    "        noise = noise_distribution([0,0], sigma)\n",
    "        u_noise = np.add(u, noise)\n",
    "        particle = propogate_fwd(xt[:, m], u_noise)\n",
    "\n",
    "        # Step 2: compute weight of particle\n",
    "        measurement_noise = create_normal_distribution([0,0,0], sigma, 1)\n",
    "        measurement = traj0[ : , timestep + 1] + measurement_noise\n",
    "        error = np.linalg.norm(measurement - particle)   \n",
    "        inv_error[m] = 1/error\n",
    "        \n",
    "        # add propagated particle\n",
    "        xt_bar[0:3, m] = particle.T\n",
    "    \n",
    "    # Stage 1B:  add weight to xt_bar   \n",
    "    sum_inv_error = np.sum(inv_error)\n",
    "    for m in range(M):\n",
    "        w = inv_error[m]/sum_inv_error     # particle with smallest error will have highest weight\n",
    "        xt_bar[3 , m]  = w\n",
    "\n",
    "    # Stage 2 - resampling (fix particle depression and favor particles with higher weight)\n",
    "    for m in range(M):\n",
    "\n",
    "        # Step 1: draw i with probability wt[m] .... weight effects likeliness that you will select the particle \n",
    "        weight = xt_bar[3, :]\n",
    "        i = random.choices(index_list, weight)\n",
    "        xi = xt_bar[0:3, i]\n",
    "\n",
    "        # Step 2: add xi to Xt\n",
    "        xt[:, m] = xi.T\n",
    "    \n",
    "    # return distribution at next timestep \n",
    "    return xt\n",
    "\n",
    "\n",
    "    #return xt_bar[0:3,:]    # no resampling\n",
    "    \n",
    "    \n",
    "\n"
   ]
  },
  {
   "cell_type": "code",
   "execution_count": 8,
   "metadata": {},
   "outputs": [
    {
     "name": "stdout",
     "output_type": "stream",
     "text": [
      "10\n",
      "20\n",
      "30\n",
      "40\n",
      "50\n"
     ]
    },
    {
     "data": {
      "text/plain": [
       "<matplotlib.collections.PathCollection at 0x11db543a0>"
      ]
     },
     "execution_count": 8,
     "metadata": {},
     "output_type": "execute_result"
    },
    {
     "data": {
      "image/png": "[encoded data removed]",
      "text/plain": [
       "<Figure size 432x288 with 1 Axes>"
      ]
     },
     "metadata": {
      "needs_background": "light"
     },
     "output_type": "display_data"
    }
   ],
   "source": [
    "M = 1000                                         # number of particles often 1000\n",
    "xt = create_normal_distribution(s0, sigma, M)    # normal distribution of variance 0.02 around IC\n",
    "\n",
    "# plot distribution that describes current belief (normal distribution of variance 0.02 around IC)\n",
    "plt.scatter(xt[0], xt[1], edgecolors='black')\n",
    "\n",
    "\n",
    "# generate particles at each timestep and plot the particles every 1 second for a total of 6 seconds\n",
    "for i in range(N):\n",
    "    new_xt = particle_filter(xt, M, i)\n",
    "    xt = new_xt\n",
    "    \n",
    "    # average state estimate \n",
    "    avg = np.mean(xt, axis= 1)\n",
    "    plt.scatter(avg[0], avg[1], color = \"black\")\n",
    "    \n",
    "    if i%10 == 0 and i!=0:\n",
    "        print(i)\n",
    "        plt.scatter(xt[0], xt[1], edgecolors='black')\n",
    "\n",
    "    \n",
    "plt.scatter(xt[0], xt[1], edgecolors='black')"
   ]
  }
 ],
 "metadata": {
  "kernelspec": {
   "display_name": "Python 3",
   "language": "python",
   "name": "python3"
  },
  "language_info": {
   "codemirror_mode": {
    "name": "ipython",
    "version": 3
   },
   "file_extension": ".py",
   "mimetype": "text/x-python",
   "name": "python",
   "nbconvert_exporter": "python",
   "pygments_lexer": "ipython3",
   "version": "3.8.5"
  }
 },
 "nbformat": 4,
 "nbformat_minor": 4
}
